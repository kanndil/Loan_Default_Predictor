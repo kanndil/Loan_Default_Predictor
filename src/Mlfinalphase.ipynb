{
  "cells": [
    {
      "cell_type": "markdown",
      "metadata": {
        "id": "f321eeb0"
      },
      "source": [
        "# reading csv file "
      ]
    },
    {
      "cell_type": "code",
      "execution_count": 18,
      "metadata": {
        "colab": {
          "base_uri": "https://localhost:8080/",
          "height": 391
        },
        "id": "2779a7a1",
        "outputId": "08fb4cef-6509-42aa-ee81-4f252cb172c3"
      },
      "outputs": [
        {
          "data": {
            "text/html": [
              "<div>\n",
              "<style scoped>\n",
              "    .dataframe tbody tr th:only-of-type {\n",
              "        vertical-align: middle;\n",
              "    }\n",
              "\n",
              "    .dataframe tbody tr th {\n",
              "        vertical-align: top;\n",
              "    }\n",
              "\n",
              "    .dataframe thead th {\n",
              "        text-align: right;\n",
              "    }\n",
              "</style>\n",
              "<table border=\"1\" class=\"dataframe\">\n",
              "  <thead>\n",
              "    <tr style=\"text-align: right;\">\n",
              "      <th></th>\n",
              "      <th>ID</th>\n",
              "      <th>year</th>\n",
              "      <th>loan_limit</th>\n",
              "      <th>Gender</th>\n",
              "      <th>approv_in_adv</th>\n",
              "      <th>loan_type</th>\n",
              "      <th>loan_purpose</th>\n",
              "      <th>Credit_Worthiness</th>\n",
              "      <th>open_credit</th>\n",
              "      <th>business_or_commercial</th>\n",
              "      <th>...</th>\n",
              "      <th>credit_type</th>\n",
              "      <th>Credit_Score</th>\n",
              "      <th>co-applicant_credit_type</th>\n",
              "      <th>age</th>\n",
              "      <th>submission_of_application</th>\n",
              "      <th>LTV</th>\n",
              "      <th>Region</th>\n",
              "      <th>Security_Type</th>\n",
              "      <th>Status</th>\n",
              "      <th>dtir1</th>\n",
              "    </tr>\n",
              "  </thead>\n",
              "  <tbody>\n",
              "    <tr>\n",
              "      <th>0</th>\n",
              "      <td>24890</td>\n",
              "      <td>2019</td>\n",
              "      <td>cf</td>\n",
              "      <td>Sex Not Available</td>\n",
              "      <td>nopre</td>\n",
              "      <td>type1</td>\n",
              "      <td>p1</td>\n",
              "      <td>l1</td>\n",
              "      <td>nopc</td>\n",
              "      <td>nob/c</td>\n",
              "      <td>...</td>\n",
              "      <td>EXP</td>\n",
              "      <td>758</td>\n",
              "      <td>CIB</td>\n",
              "      <td>25-34</td>\n",
              "      <td>to_inst</td>\n",
              "      <td>98.728814</td>\n",
              "      <td>south</td>\n",
              "      <td>direct</td>\n",
              "      <td>1</td>\n",
              "      <td>45.0</td>\n",
              "    </tr>\n",
              "    <tr>\n",
              "      <th>1</th>\n",
              "      <td>24891</td>\n",
              "      <td>2019</td>\n",
              "      <td>cf</td>\n",
              "      <td>Male</td>\n",
              "      <td>nopre</td>\n",
              "      <td>type2</td>\n",
              "      <td>p1</td>\n",
              "      <td>l1</td>\n",
              "      <td>nopc</td>\n",
              "      <td>b/c</td>\n",
              "      <td>...</td>\n",
              "      <td>EQUI</td>\n",
              "      <td>552</td>\n",
              "      <td>EXP</td>\n",
              "      <td>55-64</td>\n",
              "      <td>to_inst</td>\n",
              "      <td>NaN</td>\n",
              "      <td>North</td>\n",
              "      <td>direct</td>\n",
              "      <td>1</td>\n",
              "      <td>NaN</td>\n",
              "    </tr>\n",
              "    <tr>\n",
              "      <th>2</th>\n",
              "      <td>24892</td>\n",
              "      <td>2019</td>\n",
              "      <td>cf</td>\n",
              "      <td>Male</td>\n",
              "      <td>pre</td>\n",
              "      <td>type1</td>\n",
              "      <td>p1</td>\n",
              "      <td>l1</td>\n",
              "      <td>nopc</td>\n",
              "      <td>nob/c</td>\n",
              "      <td>...</td>\n",
              "      <td>EXP</td>\n",
              "      <td>834</td>\n",
              "      <td>CIB</td>\n",
              "      <td>35-44</td>\n",
              "      <td>to_inst</td>\n",
              "      <td>80.019685</td>\n",
              "      <td>south</td>\n",
              "      <td>direct</td>\n",
              "      <td>0</td>\n",
              "      <td>46.0</td>\n",
              "    </tr>\n",
              "    <tr>\n",
              "      <th>3</th>\n",
              "      <td>24893</td>\n",
              "      <td>2019</td>\n",
              "      <td>cf</td>\n",
              "      <td>Male</td>\n",
              "      <td>nopre</td>\n",
              "      <td>type1</td>\n",
              "      <td>p4</td>\n",
              "      <td>l1</td>\n",
              "      <td>nopc</td>\n",
              "      <td>nob/c</td>\n",
              "      <td>...</td>\n",
              "      <td>EXP</td>\n",
              "      <td>587</td>\n",
              "      <td>CIB</td>\n",
              "      <td>45-54</td>\n",
              "      <td>not_inst</td>\n",
              "      <td>69.376900</td>\n",
              "      <td>North</td>\n",
              "      <td>direct</td>\n",
              "      <td>0</td>\n",
              "      <td>42.0</td>\n",
              "    </tr>\n",
              "    <tr>\n",
              "      <th>4</th>\n",
              "      <td>24894</td>\n",
              "      <td>2019</td>\n",
              "      <td>cf</td>\n",
              "      <td>Joint</td>\n",
              "      <td>pre</td>\n",
              "      <td>type1</td>\n",
              "      <td>p1</td>\n",
              "      <td>l1</td>\n",
              "      <td>nopc</td>\n",
              "      <td>nob/c</td>\n",
              "      <td>...</td>\n",
              "      <td>CRIF</td>\n",
              "      <td>602</td>\n",
              "      <td>EXP</td>\n",
              "      <td>25-34</td>\n",
              "      <td>not_inst</td>\n",
              "      <td>91.886544</td>\n",
              "      <td>North</td>\n",
              "      <td>direct</td>\n",
              "      <td>0</td>\n",
              "      <td>39.0</td>\n",
              "    </tr>\n",
              "  </tbody>\n",
              "</table>\n",
              "<p>5 rows × 34 columns</p>\n",
              "</div>"
            ],
            "text/plain": [
              "      ID  year loan_limit             Gender approv_in_adv loan_type  \\\n",
              "0  24890  2019         cf  Sex Not Available         nopre     type1   \n",
              "1  24891  2019         cf               Male         nopre     type2   \n",
              "2  24892  2019         cf               Male           pre     type1   \n",
              "3  24893  2019         cf               Male         nopre     type1   \n",
              "4  24894  2019         cf              Joint           pre     type1   \n",
              "\n",
              "  loan_purpose Credit_Worthiness open_credit business_or_commercial  ...  \\\n",
              "0           p1                l1        nopc                  nob/c  ...   \n",
              "1           p1                l1        nopc                    b/c  ...   \n",
              "2           p1                l1        nopc                  nob/c  ...   \n",
              "3           p4                l1        nopc                  nob/c  ...   \n",
              "4           p1                l1        nopc                  nob/c  ...   \n",
              "\n",
              "   credit_type  Credit_Score  co-applicant_credit_type    age  \\\n",
              "0          EXP           758                       CIB  25-34   \n",
              "1         EQUI           552                       EXP  55-64   \n",
              "2          EXP           834                       CIB  35-44   \n",
              "3          EXP           587                       CIB  45-54   \n",
              "4         CRIF           602                       EXP  25-34   \n",
              "\n",
              "   submission_of_application        LTV Region Security_Type  Status dtir1  \n",
              "0                    to_inst  98.728814  south        direct       1  45.0  \n",
              "1                    to_inst        NaN  North        direct       1   NaN  \n",
              "2                    to_inst  80.019685  south        direct       0  46.0  \n",
              "3                   not_inst  69.376900  North        direct       0  42.0  \n",
              "4                   not_inst  91.886544  North        direct       0  39.0  \n",
              "\n",
              "[5 rows x 34 columns]"
            ]
          },
          "execution_count": 18,
          "metadata": {},
          "output_type": "execute_result"
        }
      ],
      "source": [
        "### Don't mind about this \n",
        "import warnings\n",
        "import seaborn as sns\n",
        "\n",
        "warnings.filterwarnings('ignore')\n",
        "###\n",
        "\n",
        "\n",
        "%matplotlib inline \n",
        "import pandas as pd\n",
        "import numpy as np\n",
        "import matplotlib.pyplot as plt\n",
        "\n",
        "\n",
        "table = pd.read_csv('Loan_Default.csv')\n",
        "\n",
        "original_table= table\n",
        "table.head()"
      ]
    },
    {
      "cell_type": "markdown",
      "metadata": {
        "id": "fa9f4e17"
      },
      "source": [
        "# Encoding function"
      ]
    },
    {
      "cell_type": "code",
      "execution_count": 19,
      "metadata": {
        "id": "bf3ce9ce"
      },
      "outputs": [],
      "source": [
        "\n",
        "\n",
        "def label_encoding(label):\n",
        "    uniques = table[label].unique()\n",
        "\n",
        "    print(uniques)\n",
        "    #the encoding is the index\n",
        "    for i in range(len(uniques)):\n",
        "        table.loc[table[label] == uniques[i],label]=i\n",
        "\n"
      ]
    },
    {
      "cell_type": "markdown",
      "metadata": {
        "id": "7d168650"
      },
      "source": [
        "- since the property_value and loan_amount features are highly correlated, and we cannot differentiate between the positive and negitave statues points, we decided to drop one of them namely property_value"
      ]
    },
    {
      "cell_type": "markdown",
      "metadata": {
        "id": "c2c48b69"
      },
      "source": [
        "- since there is a total correlation between the the states label and the Interest_rate_spread, where all values of Interest_rate_spread correlates with status zero ,then we decided to drop it as it shows no information."
      ]
    },
    {
      "cell_type": "markdown",
      "metadata": {
        "id": "164074ca"
      },
      "source": [
        "# dropping insignificant features \n"
      ]
    },
    {
      "cell_type": "code",
      "execution_count": 20,
      "metadata": {
        "colab": {
          "base_uri": "https://localhost:8080/",
          "height": 657
        },
        "id": "b716cc4d",
        "outputId": "8084d6f2-80bb-46fa-9af0-54af60dfee07"
      },
      "outputs": [],
      "source": [
        "#drop year since all are 2019\n",
        "table.drop('year', inplace=True, axis=1)\n",
        "#table"
      ]
    },
    {
      "cell_type": "code",
      "execution_count": 21,
      "metadata": {
        "colab": {
          "base_uri": "https://localhost:8080/"
        },
        "id": "bde43905",
        "outputId": "7c23242d-845e-443c-840e-283a4152c1e8"
      },
      "outputs": [
        {
          "name": "stdout",
          "output_type": "stream",
          "text": [
            "<class 'pandas.core.frame.DataFrame'>\n",
            "RangeIndex: 148670 entries, 0 to 148669\n",
            "Data columns (total 29 columns):\n",
            " #   Column                     Non-Null Count   Dtype  \n",
            "---  ------                     --------------   -----  \n",
            " 0   loan_limit                 145326 non-null  object \n",
            " 1   Gender                     148670 non-null  object \n",
            " 2   approv_in_adv              147762 non-null  object \n",
            " 3   loan_type                  148670 non-null  object \n",
            " 4   loan_purpose               148536 non-null  object \n",
            " 5   Credit_Worthiness          148670 non-null  object \n",
            " 6   open_credit                148670 non-null  object \n",
            " 7   business_or_commercial     148670 non-null  object \n",
            " 8   loan_amount                148670 non-null  int64  \n",
            " 9   rate_of_interest           112231 non-null  float64\n",
            " 10  Upfront_charges            109028 non-null  float64\n",
            " 11  term                       148629 non-null  float64\n",
            " 12  Neg_ammortization          148549 non-null  object \n",
            " 13  interest_only              148670 non-null  object \n",
            " 14  lump_sum_payment           148670 non-null  object \n",
            " 15  construction_type          148670 non-null  object \n",
            " 16  occupancy_type             148670 non-null  object \n",
            " 17  Secured_by                 148670 non-null  object \n",
            " 18  total_units                148670 non-null  object \n",
            " 19  income                     139520 non-null  float64\n",
            " 20  credit_type                148670 non-null  object \n",
            " 21  Credit_Score               148670 non-null  int64  \n",
            " 22  co-applicant_credit_type   148670 non-null  object \n",
            " 23  age                        148470 non-null  object \n",
            " 24  submission_of_application  148470 non-null  object \n",
            " 25  LTV                        133572 non-null  float64\n",
            " 26  Region                     148670 non-null  object \n",
            " 27  Security_Type              148670 non-null  object \n",
            " 28  Status                     148670 non-null  int64  \n",
            "dtypes: float64(5), int64(3), object(21)\n",
            "memory usage: 32.9+ MB\n"
          ]
        }
      ],
      "source": [
        "table.drop('Interest_rate_spread', inplace=True, axis=1)\n",
        "table.drop('property_value', inplace=True, axis=1)\n",
        "table.drop('dtir1', inplace=True, axis=1)\n",
        "table.drop('ID', inplace=True, axis=1)\n",
        "table.info()"
      ]
    },
    {
      "cell_type": "markdown",
      "metadata": {
        "id": "672aa2bd"
      },
      "source": [
        "# Handling Columns with significant null values"
      ]
    },
    {
      "cell_type": "code",
      "execution_count": 22,
      "metadata": {
        "colab": {
          "base_uri": "https://localhost:8080/"
        },
        "id": "7e9fa254",
        "outputId": "72960c54-fefa-4ed2-bc7c-d49478add732"
      },
      "outputs": [
        {
          "name": "stdout",
          "output_type": "stream",
          "text": [
            "Upfront_charges              26.664425\n",
            "rate_of_interest             24.509989\n",
            "LTV                          10.155378\n",
            "income                        6.154571\n",
            "loan_limit                    2.249277\n",
            "approv_in_adv                 0.610749\n",
            "submission_of_application     0.134526\n",
            "age                           0.134526\n",
            "loan_purpose                  0.090133\n",
            "Neg_ammortization             0.081388\n",
            "term                          0.027578\n",
            "Region                        0.000000\n",
            "total_units                   0.000000\n",
            "Security_Type                 0.000000\n",
            "co-applicant_credit_type      0.000000\n",
            "Credit_Score                  0.000000\n",
            "credit_type                   0.000000\n",
            "lump_sum_payment              0.000000\n",
            "Secured_by                    0.000000\n",
            "occupancy_type                0.000000\n",
            "dtype: float64\n",
            "\n",
            "The dataframe size now  (148670, 29)\n"
          ]
        }
      ],
      "source": [
        "\n",
        "\n",
        "missing_values=table.isnull().sum().sort_values(ascending=False).head(20)\n",
        "missing_percentge= (missing_values/len(table))*100\n",
        "print(missing_percentge)\n",
        "\n",
        "print('\\nThe dataframe size now ',table.shape)\n",
        "table.isnull().sum()\n",
        "\n",
        "# table['Upfront_charges'] = table['Upfront_charges'].replace(np.nan, table['Upfront_charges'].mean())\n",
        "\n",
        "# table['rate_of_interest'] = table['rate_of_interest'].replace(np.nan, table['rate_of_interest'].mean())\n",
        "\n",
        "# table['LTV'] = table['LTV'].replace(np.nan, table['LTV'].mean())\n",
        "\n",
        "table.drop('Upfront_charges', inplace=True, axis=1)\n",
        "table.drop('rate_of_interest', inplace=True, axis=1)\n",
        "table.drop('LTV', inplace=True, axis=1)\n",
        "\n",
        "#income has a reletively high NULL values but we cant drop it\n",
        "income_mean = table['income'].mean()\n",
        "table['income'] = table['income'].replace(np.nan, income_mean)\n",
        "\n",
        "\n"
      ]
    },
    {
      "cell_type": "code",
      "execution_count": 23,
      "metadata": {
        "colab": {
          "base_uri": "https://localhost:8080/"
        },
        "id": "f63f1e13",
        "outputId": "c82d5e62-d0b6-4a0a-e6d3-825f28ac47f0"
      },
      "outputs": [
        {
          "name": "stdout",
          "output_type": "stream",
          "text": [
            "loan_limit                   2.249277\n",
            "approv_in_adv                0.610749\n",
            "submission_of_application    0.134526\n",
            "age                          0.134526\n",
            "loan_purpose                 0.090133\n",
            "Neg_ammortization            0.081388\n",
            "term                         0.027578\n",
            "Secured_by                   0.000000\n",
            "Security_Type                0.000000\n",
            "Region                       0.000000\n",
            "co-applicant_credit_type     0.000000\n",
            "Credit_Score                 0.000000\n",
            "credit_type                  0.000000\n",
            "income                       0.000000\n",
            "total_units                  0.000000\n",
            "construction_type            0.000000\n",
            "occupancy_type               0.000000\n",
            "Gender                       0.000000\n",
            "lump_sum_payment             0.000000\n",
            "interest_only                0.000000\n",
            "dtype: float64\n",
            "\n",
            "The dataframe size now  (148670, 26)\n",
            "{0: 112031, 1: 36639}\n"
          ]
        }
      ],
      "source": [
        "\n",
        "missing_values=table.isnull().sum().sort_values(ascending=False).head(20)\n",
        "missing_percentge= (missing_values/len(table))*100\n",
        "print(missing_percentge)\n",
        "\n",
        "print('\\nThe dataframe size now ',table.shape)\n",
        "table.isnull().sum()\n",
        "\n",
        "counts = table['Status'].value_counts().to_dict()\n",
        "print(counts)"
      ]
    },
    {
      "cell_type": "markdown",
      "metadata": {
        "id": "8b6668e3"
      },
      "source": [
        "# label encoding "
      ]
    },
    {
      "cell_type": "code",
      "execution_count": 24,
      "metadata": {
        "colab": {
          "base_uri": "https://localhost:8080/",
          "height": 492
        },
        "id": "536eb892",
        "outputId": "17a98d26-746a-499b-d532-4d1239b9f2f6"
      },
      "outputs": [
        {
          "name": "stdout",
          "output_type": "stream",
          "text": [
            "['cf' nan 'ncf']\n",
            "['Sex Not Available' 'Male' 'Joint' 'Female']\n",
            "['nopre' 'pre' nan]\n",
            "['type1' 'type2' 'type3']\n",
            "['p1' 'p4' 'p3' 'p2' nan]\n",
            "['l1' 'l2']\n",
            "['nopc' 'opc']\n",
            "['nob/c' 'b/c']\n",
            "['not_neg' 'neg_amm' nan]\n",
            "['not_int' 'int_only']\n",
            "['not_lpsm' 'lpsm']\n",
            "['sb' 'mh']\n",
            "['pr' 'sr' 'ir']\n",
            "['home' 'land']\n",
            "['1U' '2U' '3U' '4U']\n",
            "['EXP' 'EQUI' 'CRIF' 'CIB']\n",
            "['CIB' 'EXP']\n",
            "['25-34' '55-64' '35-44' '45-54' '65-74' '>74' '<25' nan]\n",
            "['to_inst' 'not_inst' nan]\n",
            "['south' 'North' 'central' 'North-East']\n",
            "['direct' 'Indriect']\n"
          ]
        }
      ],
      "source": [
        "for i in range(len(table.iloc[3])):\n",
        "   if(type(table.iloc[3][i])==str):\n",
        "       label_encoding(table.columns[i])\n",
        "\n",
        "#table"
      ]
    },
    {
      "cell_type": "code",
      "execution_count": 13,
      "metadata": {
        "id": "cfe120c3"
      },
      "outputs": [],
      "source": [
        "#fig = plt.figure(figsize= (50,20))\n",
        "#sns.countplot(data=table)"
      ]
    },
    {
      "cell_type": "markdown",
      "metadata": {
        "id": "18edbc11"
      },
      "source": [
        "# Normalization "
      ]
    },
    {
      "cell_type": "code",
      "execution_count": 25,
      "metadata": {
        "colab": {
          "base_uri": "https://localhost:8080/"
        },
        "id": "37f26377",
        "outputId": "76aa1bd0-918a-42c6-ff14-65f0d09ec0e4"
      },
      "outputs": [
        {
          "name": "stdout",
          "output_type": "stream",
          "text": [
            "income 0.0 578580.0\n",
            "term 96.0 360.0\n",
            "loan_amount 16500 3576500\n",
            "Credit_Score 500 900\n",
            "<class 'pandas.core.frame.DataFrame'>\n",
            "RangeIndex: 148670 entries, 0 to 148669\n",
            "Data columns (total 26 columns):\n",
            " #   Column                     Non-Null Count   Dtype  \n",
            "---  ------                     --------------   -----  \n",
            " 0   loan_limit                 145326 non-null  object \n",
            " 1   Gender                     148670 non-null  object \n",
            " 2   approv_in_adv              147762 non-null  object \n",
            " 3   loan_type                  148670 non-null  object \n",
            " 4   loan_purpose               148536 non-null  object \n",
            " 5   Credit_Worthiness          148670 non-null  object \n",
            " 6   open_credit                148670 non-null  object \n",
            " 7   business_or_commercial     148670 non-null  object \n",
            " 8   loan_amount                148670 non-null  float64\n",
            " 9   term                       148629 non-null  float64\n",
            " 10  Neg_ammortization          148549 non-null  object \n",
            " 11  interest_only              148670 non-null  object \n",
            " 12  lump_sum_payment           148670 non-null  object \n",
            " 13  construction_type          148670 non-null  object \n",
            " 14  occupancy_type             148670 non-null  object \n",
            " 15  Secured_by                 148670 non-null  object \n",
            " 16  total_units                148670 non-null  object \n",
            " 17  income                     148670 non-null  float64\n",
            " 18  credit_type                148670 non-null  object \n",
            " 19  Credit_Score               148670 non-null  float64\n",
            " 20  co-applicant_credit_type   148670 non-null  object \n",
            " 21  age                        148470 non-null  object \n",
            " 22  submission_of_application  148470 non-null  object \n",
            " 23  Region                     148670 non-null  object \n",
            " 24  Security_Type              148670 non-null  object \n",
            " 25  Status                     148670 non-null  int64  \n",
            "dtypes: float64(4), int64(1), object(21)\n",
            "memory usage: 29.5+ MB\n"
          ]
        }
      ],
      "source": [
        "\n",
        "table_before_normalization = table.copy()\n",
        "scaled_colmns={'loan_amount','term','income','Credit_Score'}\n",
        "for column in scaled_colmns:\n",
        "    print(column,table[column].min(), table[column].max() )   \n",
        "    table[column] = (table[column] - table[column].min()) / (table[column].max() - table[column].min()) \n",
        "\n",
        "\n",
        "table.info()"
      ]
    },
    {
      "cell_type": "markdown",
      "metadata": {
        "id": "cfeac798"
      },
      "source": [
        "Before Normalization\n"
      ]
    },
    {
      "cell_type": "code",
      "execution_count": 15,
      "metadata": {
        "colab": {
          "base_uri": "https://localhost:8080/",
          "height": 52
        },
        "id": "27c2b03b",
        "outputId": "7c77dbd7-739b-452c-c5ab-c24585ca9139"
      },
      "outputs": [
        {
          "data": {
            "image/png": "[encoded data removed]",
            "text/plain": [
              "<Figure size 720x720 with 4 Axes>"
            ]
          },
          "metadata": {
            "needs_background": "light"
          },
          "output_type": "display_data"
        }
      ],
      "source": [
        "from matplotlib import pyplot\n",
        "#sns.boxplot(x='Status',y='loan_amount',data=table)\n",
        "\n",
        "#sns.distplot(table['Gender'])\n",
        "\n",
        "#plt.scatter(table['rate_of_interest'],table['loan_amount'])\n",
        "\n",
        "# sns.FacetGrid(table,hue='Status',size=5).map(sns.distplot,'LTV').add_legend() #histogram and PDF\n",
        "\n",
        "fig, axes = plt.subplots(2, 2)\n",
        "\n",
        "fig.set_figheight(10)\n",
        "fig.set_figwidth(10)\n",
        "\n",
        "ax = sns.boxplot(x=\"Status\", y=\"loan_amount\", data=table_before_normalization, orient='v',ax=axes[0, 0])\n",
        "# ax = sns.boxplot(x=\"Status\", y=\"rate_of_interest\", data=table_before_normalization, orient='v',ax=axes[0, 1])\n",
        "# ax = sns.boxplot(x=\"Status\", y=\"Upfront_charges\", data=table_before_normalization, orient='v',ax=axes[1, 0])\n",
        "ax = sns.boxplot(x=\"Status\", y=\"term\", data=table_before_normalization, orient='v',ax=axes[0, 1])\n",
        "ax = sns.boxplot(x=\"Status\", y=\"income\", data=table_before_normalization, orient='v', ax=axes[1, 0])\n",
        "ax = sns.boxplot(x=\"Status\", y=\"Credit_Score\", data=table_before_normalization, orient='v',ax=axes[1, 1])\n",
        "\n",
        "\n",
        "\n"
      ]
    },
    {
      "cell_type": "code",
      "execution_count": null,
      "metadata": {
        "id": "A3hkxRhtgbez"
      },
      "outputs": [],
      "source": []
    },
    {
      "cell_type": "markdown",
      "metadata": {
        "id": "a057dc33"
      },
      "source": [
        "After Normalization\n"
      ]
    },
    {
      "cell_type": "code",
      "execution_count": 16,
      "metadata": {
        "colab": {
          "base_uri": "https://localhost:8080/",
          "height": 52
        },
        "id": "506d1a15",
        "outputId": "a165bb63-fe86-4c64-d6eb-7faeb97732bf"
      },
      "outputs": [
        {
          "data": {
            "image/png": "[encoded data removed]",
            "text/plain": [
              "<Figure size 720x720 with 4 Axes>"
            ]
          },
          "metadata": {
            "needs_background": "light"
          },
          "output_type": "display_data"
        }
      ],
      "source": [
        "\n",
        "fig, axes = plt.subplots(2, 2)\n",
        "\n",
        "fig.set_figheight(10)\n",
        "fig.set_figwidth(10)\n",
        "\n",
        "ax = sns.boxplot(x=\"Status\", y=\"loan_amount\", data=table, orient='v',ax=axes[0, 0])\n",
        "# ax = sns.boxplot(x=\"Status\", y=\"rate_of_interest\", data=table, orient='v',ax=axes[0, 1])\n",
        "# ax = sns.boxplot(x=\"Status\", y=\"Upfront_charges\", data=table, orient='v',ax=axes[1, 0])\n",
        "ax = sns.boxplot(x=\"Status\", y=\"term\", data=table, orient='v',ax=axes[0, 1])\n",
        "ax = sns.boxplot(x=\"Status\", y=\"income\", data=table, orient='v', ax=axes[1, 0])\n",
        "ax = sns.boxplot(x=\"Status\", y=\"Credit_Score\", data=table, orient='v',ax=axes[1, 1])"
      ]
    },
    {
      "cell_type": "markdown",
      "metadata": {
        "id": "fc9351e5"
      },
      "source": [
        "Both graphs are identical with the exception of the scales"
      ]
    },
    {
      "cell_type": "markdown",
      "metadata": {
        "id": "af6381e5"
      },
      "source": [
        "# analysing the null value distribution in the dataset"
      ]
    },
    {
      "cell_type": "code",
      "execution_count": 17,
      "metadata": {
        "colab": {
          "base_uri": "https://localhost:8080/"
        },
        "id": "b5f7e431",
        "outputId": "af46493a-74ce-47cd-d9ba-e8476f509c36"
      },
      "outputs": [
        {
          "name": "stdout",
          "output_type": "stream",
          "text": [
            "loan_limit                   2.249277\n",
            "approv_in_adv                0.610749\n",
            "submission_of_application    0.134526\n",
            "age                          0.134526\n",
            "loan_purpose                 0.090133\n",
            "Neg_ammortization            0.081388\n",
            "term                         0.027578\n",
            "Secured_by                   0.000000\n",
            "Security_Type                0.000000\n",
            "Region                       0.000000\n",
            "co-applicant_credit_type     0.000000\n",
            "Credit_Score                 0.000000\n",
            "credit_type                  0.000000\n",
            "income                       0.000000\n",
            "total_units                  0.000000\n",
            "construction_type            0.000000\n",
            "occupancy_type               0.000000\n",
            "Gender                       0.000000\n",
            "lump_sum_payment             0.000000\n",
            "interest_only                0.000000\n",
            "dtype: float64\n",
            "\n",
            "The dataframe size now  (148670, 26)\n"
          ]
        }
      ],
      "source": [
        "#sns.countplot(x=\"Region\", hue=\"Status\",  data=table )\n",
        "missing_values=table.isnull().sum().sort_values(ascending=False).head(20)\n",
        "missing_percentge= (missing_values/len(table))*100\n",
        "print (missing_percentge)\n",
        "\n",
        "print('\\nThe dataframe size now ',table.shape)"
      ]
    },
    {
      "cell_type": "code",
      "execution_count": 18,
      "metadata": {
        "colab": {
          "base_uri": "https://localhost:8080/"
        },
        "id": "4fcbef5d",
        "outputId": "ec16c00d-b31d-4231-b010-81df09460dac"
      },
      "outputs": [
        {
          "name": "stdout",
          "output_type": "stream",
          "text": [
            "{0: 112031, 1: 36639}\n"
          ]
        }
      ],
      "source": [
        "# table[\"Upfront_charges\"].plot.hist(bins=np.arange(0,100, 5), alpha=0.5)\n",
        "counts = table['Status'].value_counts().to_dict()\n",
        "print(counts)"
      ]
    },
    {
      "cell_type": "markdown",
      "metadata": {
        "id": "0yUWH-4gpz7q"
      },
      "source": [
        "# Creating a dataframe with no NULL values.\n",
        "We need to create a datafram that has no Null values as some models cannot deal with NULL values.\n",
        "\n"
      ]
    },
    {
      "cell_type": "markdown",
      "metadata": {
        "id": "nU8pj0ER2D2l"
      },
      "source": [
        "- Finding the coloumns with NULL values\n"
      ]
    },
    {
      "cell_type": "code",
      "execution_count": 19,
      "metadata": {
        "colab": {
          "base_uri": "https://localhost:8080/"
        },
        "id": "SP2SGjG02CV1",
        "outputId": "06ca1c63-ffd4-483e-fa39-51450be284de"
      },
      "outputs": [
        {
          "name": "stdout",
          "output_type": "stream",
          "text": [
            "total number of NULL values is:  4948 \n",
            "\n",
            "\n"
          ]
        },
        {
          "data": {
            "text/plain": [
              "loan_limit                   2.249277\n",
              "approv_in_adv                0.610749\n",
              "submission_of_application    0.134526\n",
              "age                          0.134526\n",
              "loan_purpose                 0.090133\n",
              "Neg_ammortization            0.081388\n",
              "term                         0.027578\n",
              "Secured_by                   0.000000\n",
              "Security_Type                0.000000\n",
              "Region                       0.000000\n",
              "co-applicant_credit_type     0.000000\n",
              "Credit_Score                 0.000000\n",
              "credit_type                  0.000000\n",
              "income                       0.000000\n",
              "total_units                  0.000000\n",
              "construction_type            0.000000\n",
              "occupancy_type               0.000000\n",
              "Gender                       0.000000\n",
              "lump_sum_payment             0.000000\n",
              "interest_only                0.000000\n",
              "dtype: float64"
            ]
          },
          "execution_count": 19,
          "metadata": {},
          "output_type": "execute_result"
        }
      ],
      "source": [
        "table_no_nulls = table.copy()\n",
        "missing_values=table_no_nulls.isnull().sum().sort_values(ascending=False).head(20)\n",
        "missing_percentge= (missing_values/len(table_no_nulls))*100\n",
        "print('total number of NULL values is: ',table_no_nulls.isnull().sum().sum(),'\\n\\n')\n",
        "missing_percentge"
      ]
    },
    {
      "cell_type": "markdown",
      "metadata": {
        "id": "tKlAXTHp2R0M"
      },
      "source": [
        "We will decide now how to handle the NULLs in each column\n",
        "\n",
        "- Use average for: income / loan_limit / age (Because they are numeric values)\n",
        "- Use random values for: approv_in_adv / submission_of_application / loan_purpose / Neg_ammortization / term (Because they are Categorical Values)"
      ]
    },
    {
      "cell_type": "code",
      "execution_count": 20,
      "metadata": {
        "id": "Campv55i32zv"
      },
      "outputs": [],
      "source": [
        "# Calulating the mean of both columns \n",
        "loan_limit_mean = table_no_nulls['loan_limit'].mean()\n",
        "age_mean = table_no_nulls['age'].mean()\n",
        "\n",
        "\n",
        "#replacing the values with the mean\n",
        "table_no_nulls['age'] = table_no_nulls['age'].replace(np.nan, age_mean)\n",
        "table_no_nulls['loan_limit'] = table_no_nulls['loan_limit'].replace(np.nan, loan_limit_mean)\n"
      ]
    },
    {
      "cell_type": "code",
      "execution_count": 21,
      "metadata": {
        "id": "FLPWkCubpskY"
      },
      "outputs": [],
      "source": [
        "#replacing NULL values with random numbers\n",
        "import random\n",
        "\n",
        "table_no_nulls['approv_in_adv'] = table_no_nulls['approv_in_adv'].apply(lambda x:x if pd.notnull(x) else random.randint(table_no_nulls['approv_in_adv'].min() , table_no_nulls['approv_in_adv'].max() ) )\n",
        "table_no_nulls['submission_of_application'] = table_no_nulls['submission_of_application'].apply(lambda x:x if pd.notnull(x) else random.randint(table_no_nulls['submission_of_application'].min() , table_no_nulls['submission_of_application'].max() ) )\n",
        "table_no_nulls['loan_purpose'] = table_no_nulls['loan_purpose'].apply(lambda x:x if pd.notnull(x) else random.randint(table_no_nulls['loan_purpose'].min() , table_no_nulls['loan_purpose'].max() ) )\n",
        "table_no_nulls['Neg_ammortization'] = table_no_nulls['Neg_ammortization'].apply(lambda x:x if pd.notnull(x) else random.randint(table_no_nulls['Neg_ammortization'].min() , table_no_nulls['Neg_ammortization'].max() ) )\n",
        "table_no_nulls['term'] = table_no_nulls['term'].apply(lambda x:x if pd.notnull(x) else random.randint(table_no_nulls['term'].min() , table_no_nulls['term'].max() ) )\n"
      ]
    },
    {
      "cell_type": "markdown",
      "metadata": {
        "id": "uP1dTeRUA2Mn"
      },
      "source": [
        "Checking if all NULL values have been removed"
      ]
    },
    {
      "cell_type": "code",
      "execution_count": 22,
      "metadata": {
        "colab": {
          "base_uri": "https://localhost:8080/"
        },
        "id": "wfsgfwCmA56f",
        "outputId": "181658b1-5efe-44d0-e0c2-230742f8033d"
      },
      "outputs": [
        {
          "name": "stdout",
          "output_type": "stream",
          "text": [
            "total number of NULL values is:  0 \n",
            "\n",
            "\n"
          ]
        }
      ],
      "source": [
        "print('total number of NULL values is: ',table_no_nulls.isnull().sum().sum(),'\\n\\n')\n",
        "\n"
      ]
    },
    {
      "cell_type": "code",
      "execution_count": 23,
      "metadata": {
        "id": "UwaaiA8Jj3av"
      },
      "outputs": [],
      "source": [
        "# X = table.loc[:,table.columns !=\"Status\"] #all colomns except Status\n",
        "# y = table['Status'] #Status column\n",
        "from imblearn.over_sampling import SMOTE\n",
        "from imblearn.under_sampling import NearMiss\n",
        "from sklearn.decomposition import PCA\n",
        "X_NoNull = table_no_nulls.loc[:,table_no_nulls.columns !=\"Status\"] #all colomns except Status\n",
        "y_NoNull = table_no_nulls['Status'] #Status column\n",
        "\n",
        "# Failed attempts to handle the class imbalance in our dataset. \n",
        "\n",
        "# smote = SMOTE()\n",
        "# X_NoNull, y_NoNull = smote.fit_resample(X_NoNull, y_NoNull)\n",
        "\n",
        "# nm = NearMiss()\n",
        "\n",
        "# X_NoNull, y_NoNull = nm.fit_resample(X_NoNull, y_NoNull)\n",
        "\n",
        "\n",
        "# pca = PCA()\n",
        "# X_NoNull = pca.fit_transform(X_NoNull)\n",
        "\n",
        "# X_NoNull\n"
      ]
    },
    {
      "cell_type": "code",
      "execution_count": 24,
      "metadata": {
        "colab": {
          "base_uri": "https://localhost:8080/"
        },
        "id": "Dwt9T1ailPni",
        "outputId": "b25f8824-1eb5-4ab4-ef29-3b11a3a8a09f"
      },
      "outputs": [
        {
          "name": "stdout",
          "output_type": "stream",
          "text": [
            "0    112031\n",
            "1     36639\n",
            "Name: Status, dtype: int64\n"
          ]
        }
      ],
      "source": [
        "\n",
        "print(y_NoNull.value_counts())"
      ]
    },
    {
      "cell_type": "markdown",
      "metadata": {
        "id": "61004647"
      },
      "source": [
        "# Splitting Training and Testing Data\n"
      ]
    },
    {
      "cell_type": "code",
      "execution_count": 25,
      "metadata": {
        "id": "a20557fe"
      },
      "outputs": [],
      "source": [
        "from sklearn.model_selection import train_test_split\n",
        "#df.loc[:, df.columns != 'b']\n",
        "\n",
        "\n",
        "\n",
        "X_NoNull_train, X_NoNull_test, y_NoNull_train, y_NoNull_test = train_test_split(X_NoNull,y_NoNull,test_size=0.2,random_state=30) #data is randomized during spliiting\n",
        "#split the data into train, validation, test\n",
        "#X_NoNull_train_val, X_NoNull_test, y_NoNull_train_val, y_NoNull_test = train_test_split(X_NoNull,y_NoNull,test_size=0.2,random_state=30) #data is randomized during spliiting\n",
        "\n",
        "#X_NoNull_train, X_NoNull_val, y_NoNull_train, y_NoNull_val = train_test_split(X_NoNull_train_val, y_NoNull_train_val, test_size=0.25, random_state=30) # 0.25 x 0.8 = 0.2\n"
      ]
    },
    {
      "cell_type": "markdown",
      "metadata": {
        "id": "cfb897eb"
      },
      "source": [
        "# Plotting histograms"
      ]
    },
    {
      "cell_type": "code",
      "execution_count": 26,
      "metadata": {
        "colab": {
          "base_uri": "https://localhost:8080/"
        },
        "id": "09981783",
        "outputId": "93e2d644-059f-4968-cd6b-93422d150062"
      },
      "outputs": [
        {
          "data": {
            "text/plain": [
              "{0: 112031, 1: 36639}"
            ]
          },
          "execution_count": 26,
          "metadata": {},
          "output_type": "execute_result"
        }
      ],
      "source": [
        "# Commented because it takes a big space and takes a lot of runtime\n",
        "# for i in table.columns:\n",
        "    \n",
        "#     plt.figure()\n",
        "#     plt.title(f'{i}')\n",
        "#     plt.hist(table[i], bins = 80)\n",
        "\n",
        "counts = table['Status'].value_counts().to_dict()\n",
        "counts"
      ]
    },
    {
      "cell_type": "markdown",
      "metadata": {
        "id": "Y0VL1PEjW6dh"
      },
      "source": [
        "# Implementing NN Model with learning rate bias"
      ]
    },
    {
      "cell_type": "code",
      "execution_count": 27,
      "metadata": {
        "id": "joiL5_oOXDH5"
      },
      "outputs": [],
      "source": [
        "\n",
        "import pandas as pd\n",
        "import numpy as np\n",
        "class Layer:\n",
        "    \n",
        "    ### activations\n",
        "    def _identity(self,z):\n",
        "        return z\n",
        "    \n",
        "    def _identity_diff(self,z):\n",
        "        return np.ones_like(z)\n",
        "    \n",
        "    def _sigmoid(self,z):\n",
        "        #z=z.to_numpy()\n",
        "        z=z.astype(float)\n",
        "        return (1/(1+np.exp(-1*z)))\n",
        "\n",
        "    def _diff_sigmoid(self,z):\n",
        "        return self._sigmoid(z)*(1-self._sigmoid(z))\n",
        "    \n",
        "    ###########\n",
        "\n",
        "    def __init__(self,n_input,n_output, activation=\"identity\",name=None):\n",
        "        self.n_output= n_output\n",
        "        self.n_input= n_input\n",
        "        self.name= name\n",
        "        \n",
        "        if activation == \"identity\":\n",
        "            self.activation = self._identity\n",
        "            self.diff_act= self._identity_diff\n",
        "        \n",
        "        elif activation == \"sigmoid\":\n",
        "            self.activation = self._sigmoid\n",
        "            self.diff_act= self._diff_sigmoid\n",
        "        \n",
        "        \n",
        "            \n",
        "        \n",
        "        \n",
        "        self.W= np.random.randn(self.n_output,self.n_input)*np.sqrt(2/self.n_input)\n",
        "        self.b= np.random.randn(self.n_output,1)*np.sqrt(2/self.n_input)\n",
        "\n",
        "        self.dW= np.zeros_like(self.W)\n",
        "        self.db= np.zeros_like(self.b)\n",
        "        \n",
        "        self.Z= None\n",
        "        self.Ai = None\n",
        "        \n",
        "    \n",
        "    def forward(self,Ai):\n",
        "#         print(\"FWD\")\n",
        "#         print(Ai.shape)\n",
        "#         print(self.W.shape)\n",
        "#         print(self.b.shape)\n",
        "        z =  np.add((self.W @ Ai),self.b)\n",
        "#         print(z.shape)\n",
        "        A = self.activation(z)\n",
        "#         print(A.shape)\n",
        "        \n",
        "        \n",
        "        self.Z = z\n",
        "        self.Ai = Ai\n",
        "        return A\n",
        "    \n",
        "    \n",
        "    def backward(self,inp):\n",
        "        \n",
        "#         print(\"input shape: \",end='')\n",
        "#         print(inp.shape)\n",
        "       \n",
        "        act_diff = self.diff_act(self.Z)\n",
        "#         print(\"act_diff shape: \",end='')\n",
        "#         print(act_diff.shape)\n",
        "        \n",
        "        tmp = inp * act_diff\n",
        "#         print(\"tmp shape: \",end='')\n",
        "#         print(tmp.shape)\n",
        "        \n",
        "        bet = tmp @ self.Ai.T # vector of 1s\n",
        "#         print(\"bet shape: \",end='')\n",
        "#         print(bet.shape)\n",
        "        \n",
        "        \n",
        "        e = np.ones((self.Ai.shape[1],1))\n",
        "        db = tmp @ e\n",
        "#         print(\"db shape: \",end='')\n",
        "#         print(db.shape)\n",
        "        \n",
        "        self.dW = self.dW + bet\n",
        "        self.db = self.db + db\n",
        "        \n",
        "        \n",
        "        return self.W.T @ tmp\n",
        "    \n",
        "    \n",
        "    def zeroing_delta(self):\n",
        "        self.dW= np.zeros_like(self.W)\n",
        "        self.db= np.zeros_like(self.b)\n",
        "#########################################################################################################\n",
        "class NN:\n",
        "    \n",
        "    ########\n",
        "    ## losses\n",
        "    def MSE(self,y,yhat):\n",
        "        a=np.square(yhat-y)\n",
        "        a=np.sum(a)\n",
        "        b= 1/(2*y.shape[1])\n",
        "        return a*b\n",
        "\n",
        "    ## diff losses\n",
        "    def _diff_MSE(self,y,yhat, factor):\n",
        "\n",
        "        d=(yhat-y)\n",
        "        return  pd.DataFrame(d.values*factor.values, columns=d.columns, index=d.index)\n",
        "    \n",
        "    #########\n",
        "    \n",
        "    def __init__(self,lr):\n",
        "        self.layers = []\n",
        "        self.alpha= lr\n",
        "        \n",
        "    \n",
        "    \n",
        "    \n",
        "    def forward(self,inp):\n",
        "        a=inp\n",
        "#         print(a.shape)\n",
        "        for layer in self.layers:\n",
        "            a = layer.forward(a)\n",
        "#             print(a.shape)\n",
        "        \n",
        "        return a\n",
        "    \n",
        "    def backward(self,input):\n",
        "        gd = input\n",
        "        for layer in self.layers[::-1]:\n",
        "            gd = layer.backward(gd)\n",
        "            \n",
        "    def add_layer(self,n_input,n_output, activation=\"identity\",name=None):\n",
        "        self.layers.append(Layer(n_input,n_output, activation=activation,name=name))\n",
        "        \n",
        "    def fit(self, x_train,y_train, epochs=5): #data dim is MxN .. M no of examples.. N no of dimension\n",
        "        \n",
        "\n",
        "       M = x_train.shape[0]\n",
        "\n",
        "       l = y_train.shape[0]\n",
        "       biased_learning_rate = np.zeros(l)\n",
        "       cc= y_train.to_numpy()\n",
        "       for i in range(l):\n",
        "            if (cc[i] == 0):\n",
        "                biased_learning_rate[i]+= 1\n",
        "            else:\n",
        "                biased_learning_rate[i]+= 4\n",
        "       biased_learning_rate= pd.DataFrame(biased_learning_rate)\n",
        "        \n",
        "       x_train = x_train.T\n",
        "       y_train = y_train.T\n",
        "        \n",
        "#         print(x_train.shape)\n",
        "#         print(y_train.shape)s\n",
        "        \n",
        "       for i in range(epochs):\n",
        "           print(\"Epoche {}/{}\".format(i+1,epochs))\n",
        "           y_hat= self.forward(x_train)\n",
        "           print(\"in _diff_MSE \")\n",
        "           dl_dyhat = self._diff_MSE(y_train,y_hat, biased_learning_rate)\n",
        "           print(\"out _diff_MSE \")            \n",
        "           self.backward(dl_dyhat)\n",
        "            \n",
        "           # update using GD\n",
        "           for i in range(len(self.layers)):\n",
        "               # layers[i].dW=layers[i].dW/N\n",
        "               # layers[i].db=layers[i].db/N\n",
        "               self.layers[i].W = self.layers[i].W - self.alpha  * (self.layers[i].dW/M)\n",
        "               self.layers[i].b = self.layers[i].b - self.alpha  * (self.layers[i].db/M)\n",
        "                \n",
        "            \n",
        "           # zeroing deltas\n",
        "           for layer in self.layers:\n",
        "               layer.zeroing_delta()\n",
        "            \n",
        "       print(\"Finished....\") \n",
        "            \n",
        "            \n",
        "        \n",
        "\n",
        "    \n",
        "    def predict(self,x_test): #data dim is NxD .. N no of examples.. D no of dimension\n",
        "#         print(x_test.shape)\n",
        "        y_hat= self.forward(x_test.T)\n",
        "        print(y_hat.shape)\n",
        "        return y_hat.T\n",
        "                    "
      ]
    },
    {
      "cell_type": "markdown",
      "metadata": {
        "id": "LU-gixWwXM4W"
      },
      "source": [
        "# fitting"
      ]
    },
    {
      "cell_type": "code",
      "execution_count": 28,
      "metadata": {
        "colab": {
          "base_uri": "https://localhost:8080/",
          "height": 1000
        },
        "id": "ZMZMj3mxXQAD",
        "outputId": "f45257c5-acf1-4989-bc03-94f515ada865"
      },
      "outputs": [
        {
          "name": "stdout",
          "output_type": "stream",
          "text": [
            "25\n",
            "112231    0\n",
            "112563    1\n",
            "131590    0\n",
            "17461     0\n",
            "64551     0\n",
            "         ..\n",
            "96053     1\n",
            "66455     1\n",
            "46220     1\n",
            "98804     0\n",
            "48045     1\n",
            "Name: Status, Length: 118936, dtype: int64\n",
            "Epoche 1/3\n"
          ]
        }
      ],
      "source": [
        "nn = NN(lr=0.01)\n",
        "\n",
        "print(X_NoNull_train.shape[1])\n",
        "nn.add_layer(25,10,activation=\"sigmoid\",name=\"l1\")\n",
        "nn.add_layer(10,5,activation = \"sigmoid\",name=\"l2\")\n",
        "nn.add_layer(5,1,activation = \"sigmoid\",name=\"l3\")\n",
        "print(y_NoNull_train)\n",
        "\n",
        "nn.fit(X_NoNull_train,y_NoNull_train,3)"
      ]
    },
    {
      "cell_type": "markdown",
      "metadata": {
        "id": "i_ADv1VWXb3b"
      },
      "source": [
        "# predict"
      ]
    },
    {
      "cell_type": "code",
      "execution_count": null,
      "metadata": {
        "id": "muDPWI5uXaRe"
      },
      "outputs": [
        {
          "name": "stdout",
          "output_type": "stream",
          "text": [
            "(1, 29734)\n",
            "              precision    recall  f1-score   support\n",
            "\n",
            "           0       0.75      1.00      0.86     22319\n",
            "           1       0.00      0.00      0.00      7415\n",
            "\n",
            "    accuracy                           0.75     29734\n",
            "   macro avg       0.38      0.50      0.43     29734\n",
            "weighted avg       0.56      0.75      0.64     29734\n",
            "\n"
          ]
        },
        {
          "data": {
            "text/plain": [
              "array([[22319,     0],\n",
              "       [ 7415,     0]])"
            ]
          },
          "execution_count": 41,
          "metadata": {},
          "output_type": "execute_result"
        }
      ],
      "source": [
        "nn_y_predicted = nn.predict(X_NoNull_test)\n",
        "from sklearn.metrics import classification_report\n",
        "\n",
        "nn_y_predicted= nn_y_predicted.astype(int)\n",
        "print(classification_report(y_NoNull_test, nn_y_predicted))\n",
        "\n",
        "from sklearn.metrics import confusion_matrix\n",
        "confusion_matrix(y_NoNull_test, nn_y_predicted)\n"
      ]
    }
  ],
  "metadata": {
    "colab": {
      "collapsed_sections": [
        "f321eeb0",
        "fa9f4e17",
        "118a4d1e",
        "164074ca",
        "672aa2bd",
        "8b6668e3",
        "18edbc11",
        "6a02acf9",
        "af6381e5",
        "6fecdfc0",
        "0yUWH-4gpz7q",
        "cfb897eb",
        "rE9ZQE17lj6g"
      ],
      "name": "Mlfinalphase.ipynb",
      "provenance": [],
      "toc_visible": true
    },
    "interpreter": {
      "hash": "aee8b7b246df8f9039afb4144a1f6fd8d2ca17a180786b69acc140d282b71a49"
    },
    "kernelspec": {
      "display_name": "Python 3.9.12 64-bit",
      "language": "python",
      "name": "python3"
    },
    "language_info": {
      "codemirror_mode": {
        "name": "ipython",
        "version": 3
      },
      "file_extension": ".py",
      "mimetype": "text/x-python",
      "name": "python",
      "nbconvert_exporter": "python",
      "pygments_lexer": "ipython3",
      "version": "3.9.12"
    }
  },
  "nbformat": 4,
  "nbformat_minor": 0
}
